{
 "cells": [
  {
   "cell_type": "code",
   "execution_count": 7,
   "metadata": {},
   "outputs": [],
   "source": [
    "import streamlit as st\n",
    "import datetime,requests\n",
    "from plotly import graph_objects as go\n",
    "from PIL import Image\n",
    "import pandas as pd"
   ]
  },
  {
   "cell_type": "code",
   "execution_count": 8,
   "metadata": {},
   "outputs": [],
   "source": [
    "#load in the wind chart and create a dataframe\n",
    "wind_chart = pd.read_csv(\"wind_chart_df.csv\", index_col=[0])\n",
    "wind_chart_df = pd.DataFrame(wind_chart)"
   ]
  },
  {
   "cell_type": "code",
   "execution_count": 9,
   "metadata": {},
   "outputs": [],
   "source": [
    "wind_chart_df.columns = wind_chart_df.columns.astype(\"int64\")"
   ]
  },
  {
   "cell_type": "code",
   "execution_count": 10,
   "metadata": {},
   "outputs": [],
   "source": [
    "# Example usage of the function\n",
    "weight_val = 95\n",
    "wspeed = 16"
   ]
  },
  {
   "cell_type": "code",
   "execution_count": 11,
   "metadata": {},
   "outputs": [],
   "source": [
    "def get_cell_value(weight_val, wspeed, dataframe ):\n",
    "    # Ensure weight and wind_speed are within the DataFrame's bounds\n",
    "    if weight_val in dataframe.index and wspeed in dataframe.columns:\n",
    "        return dataframe.loc[weight_val, wspeed]\n",
    "    else:\n",
    "        raise ValueError(\"Weight and/or wind speed not found in DataFrame.\")"
   ]
  },
  {
   "cell_type": "code",
   "execution_count": 12,
   "metadata": {},
   "outputs": [
    {
     "name": "stdout",
     "output_type": "stream",
     "text": [
      "If you weight 95kg and the wind speed is 16 knots, you will need a 14m kite!\n"
     ]
    }
   ],
   "source": [
    "cell_value = get_cell_value(weight_val, wspeed, wind_chart_df)\n",
    "print(f\"If you weight {weight_val}kg and the wind speed is {wspeed} knots, you will need a {cell_value}m kite!\")"
   ]
  },
  {
   "cell_type": "code",
   "execution_count": null,
   "metadata": {},
   "outputs": [],
   "source": [
    "        import plotly.graph_objects as go\n",
    "\n",
    "        # Create the bar chart\n",
    "        fig = go.Figure(data=[\n",
    "            go.Bar(name='A', x=['Jan', 'Feb', 'Mar'], y=[10, 20, 30]),\n",
    "            go.Bar(name='B', x=['Jan', 'Feb', 'Mar'], y=[20, 30, 40]),\n",
    "        ])\n",
    "\n",
    "        # Add an image to the chart\n",
    "        fig.add_layout_image(\n",
    "            dict(\n",
    "                source=\"https://upload.wikimedia.org/wikipedia/commons/thumb/5/5a/Cat_cartoon.png/220px-Cat_cartoon.png\",\n",
    "                xref=\"paper\", yref=\"paper\",\n",
    "                x=0.5, y=1.2,\n",
    "                sizex=0.2, sizey=0.2,\n",
    "                xanchor=\"center\", yanchor=\"bottom\"\n",
    "            )\n",
    "        )\n",
    "\n",
    "        # Set the bargap parameter to 0 to remove the gaps between the bars\n",
    "        fig.update_layout(barmode='group', bargap=0)\n",
    "\n",
    "        # Display the chart\n",
    "        fig.show()"
   ]
  }
 ],
 "metadata": {
  "kernelspec": {
   "display_name": "streamlit_env",
   "language": "python",
   "name": "python3"
  },
  "language_info": {
   "codemirror_mode": {
    "name": "ipython",
    "version": 3
   },
   "file_extension": ".py",
   "mimetype": "text/x-python",
   "name": "python",
   "nbconvert_exporter": "python",
   "pygments_lexer": "ipython3",
   "version": "3.9.16"
  },
  "orig_nbformat": 4
 },
 "nbformat": 4,
 "nbformat_minor": 2
}
